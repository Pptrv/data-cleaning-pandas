{
 "cells": [
  {
   "cell_type": "markdown",
   "metadata": {},
   "source": [
    "# Analyzing and Interpreting Data"
   ]
  },
  {
   "cell_type": "code",
   "execution_count": 1,
   "metadata": {},
   "outputs": [],
   "source": [
    "import numpy as np\n",
    "import random\n",
    "import seaborn as sns\n",
    "import pandas as pd\n",
    "import os\n",
    "import re\n",
    "%load_ext autoreload\n",
    "%autoreload 2"
   ]
  },
  {
   "cell_type": "markdown",
   "metadata": {},
   "source": [
    "The dataframe we will use is the following: "
   ]
  },
  {
   "cell_type": "code",
   "execution_count": 2,
   "metadata": {},
   "outputs": [
    {
     "data": {
      "text/html": [
       "<div>\n",
       "<style scoped>\n",
       "    .dataframe tbody tr th:only-of-type {\n",
       "        vertical-align: middle;\n",
       "    }\n",
       "\n",
       "    .dataframe tbody tr th {\n",
       "        vertical-align: top;\n",
       "    }\n",
       "\n",
       "    .dataframe thead th {\n",
       "        text-align: right;\n",
       "    }\n",
       "</style>\n",
       "<table border=\"1\" class=\"dataframe\">\n",
       "  <thead>\n",
       "    <tr style=\"text-align: right;\">\n",
       "      <th></th>\n",
       "      <th>Unnamed: 0</th>\n",
       "      <th>Dates</th>\n",
       "      <th>Country</th>\n",
       "      <th>Month_Day</th>\n",
       "      <th>Season</th>\n",
       "      <th>Attack</th>\n",
       "    </tr>\n",
       "  </thead>\n",
       "  <tbody>\n",
       "    <tr>\n",
       "      <th>2885</th>\n",
       "      <td>2887</td>\n",
       "      <td>19840807.0</td>\n",
       "      <td>INDONESIA</td>\n",
       "      <td>807.0</td>\n",
       "      <td>Summer</td>\n",
       "      <td>2888</td>\n",
       "    </tr>\n",
       "    <tr>\n",
       "      <th>3803</th>\n",
       "      <td>3814</td>\n",
       "      <td>19620611.0</td>\n",
       "      <td>USA</td>\n",
       "      <td>611.0</td>\n",
       "      <td>Spring</td>\n",
       "      <td>3815</td>\n",
       "    </tr>\n",
       "    <tr>\n",
       "      <th>771</th>\n",
       "      <td>773</td>\n",
       "      <td>20120626.0</td>\n",
       "      <td>USA</td>\n",
       "      <td>626.0</td>\n",
       "      <td>Spring</td>\n",
       "      <td>774</td>\n",
       "    </tr>\n",
       "    <tr>\n",
       "      <th>6125</th>\n",
       "      <td>6170</td>\n",
       "      <td>15800110.0</td>\n",
       "      <td>Between PORTUGAL &amp; INDIA</td>\n",
       "      <td>110.0</td>\n",
       "      <td>Winter</td>\n",
       "      <td>6171</td>\n",
       "    </tr>\n",
       "    <tr>\n",
       "      <th>3864</th>\n",
       "      <td>3875</td>\n",
       "      <td>19610926.0</td>\n",
       "      <td>USA</td>\n",
       "      <td>926.0</td>\n",
       "      <td>Summer</td>\n",
       "      <td>3876</td>\n",
       "    </tr>\n",
       "    <tr>\n",
       "      <th>1834</th>\n",
       "      <td>1836</td>\n",
       "      <td>20020811.0</td>\n",
       "      <td>USA</td>\n",
       "      <td>811.0</td>\n",
       "      <td>Summer</td>\n",
       "      <td>1837</td>\n",
       "    </tr>\n",
       "    <tr>\n",
       "      <th>4199</th>\n",
       "      <td>4211</td>\n",
       "      <td>19570000.0</td>\n",
       "      <td>SRI LANKA</td>\n",
       "      <td>0.0</td>\n",
       "      <td>Nan</td>\n",
       "      <td>4212</td>\n",
       "    </tr>\n",
       "    <tr>\n",
       "      <th>3768</th>\n",
       "      <td>3779</td>\n",
       "      <td>19621129.0</td>\n",
       "      <td>AUSTRALIA</td>\n",
       "      <td>1129.0</td>\n",
       "      <td>Fall</td>\n",
       "      <td>3780</td>\n",
       "    </tr>\n",
       "    <tr>\n",
       "      <th>1326</th>\n",
       "      <td>1328</td>\n",
       "      <td>20070920.0</td>\n",
       "      <td>USA</td>\n",
       "      <td>920.0</td>\n",
       "      <td>Summer</td>\n",
       "      <td>1329</td>\n",
       "    </tr>\n",
       "    <tr>\n",
       "      <th>1610</th>\n",
       "      <td>1612</td>\n",
       "      <td>20050213.0</td>\n",
       "      <td>USA</td>\n",
       "      <td>213.0</td>\n",
       "      <td>Winter</td>\n",
       "      <td>1613</td>\n",
       "    </tr>\n",
       "  </tbody>\n",
       "</table>\n",
       "</div>"
      ],
      "text/plain": [
       "      Unnamed: 0       Dates                   Country  Month_Day  Season  \\\n",
       "2885        2887  19840807.0                 INDONESIA      807.0  Summer   \n",
       "3803        3814  19620611.0                       USA      611.0  Spring   \n",
       "771          773  20120626.0                       USA      626.0  Spring   \n",
       "6125        6170  15800110.0  Between PORTUGAL & INDIA      110.0  Winter   \n",
       "3864        3875  19610926.0                       USA      926.0  Summer   \n",
       "1834        1836  20020811.0                       USA      811.0  Summer   \n",
       "4199        4211  19570000.0                 SRI LANKA        0.0     Nan   \n",
       "3768        3779  19621129.0                 AUSTRALIA     1129.0    Fall   \n",
       "1326        1328  20070920.0                       USA      920.0  Summer   \n",
       "1610        1612  20050213.0                       USA      213.0  Winter   \n",
       "\n",
       "      Attack  \n",
       "2885    2888  \n",
       "3803    3815  \n",
       "771      774  \n",
       "6125    6171  \n",
       "3864    3876  \n",
       "1834    1837  \n",
       "4199    4212  \n",
       "3768    3780  \n",
       "1326    1329  \n",
       "1610    1613  "
      ]
     },
     "execution_count": 2,
     "metadata": {},
     "output_type": "execute_result"
    }
   ],
   "source": [
    "final_data = pd.read_csv('final_data.csv', encoding ='latin1')\n",
    "final_data.sample(10)"
   ]
  },
  {
   "cell_type": "markdown",
   "metadata": {},
   "source": [
    "Two different graphs that help validate our hypothesis:"
   ]
  },
  {
   "cell_type": "markdown",
   "metadata": {},
   "source": [
    "Graph 1: "
   ]
  },
  {
   "cell_type": "markdown",
   "metadata": {},
   "source": [
    "In this barchart we show the number of attacks in each season. "
   ]
  },
  {
   "cell_type": "code",
   "execution_count": 3,
   "metadata": {
    "scrolled": true
   },
   "outputs": [
    {
     "data": {
      "text/plain": [
       "<AxesSubplot:xlabel='Season', ylabel='count'>"
      ]
     },
     "execution_count": 3,
     "metadata": {},
     "output_type": "execute_result"
    },
    {
     "data": {
      "image/png": "[encoded data removed]",
      "text/plain": [
       "<Figure size 432x288 with 1 Axes>"
      ]
     },
     "metadata": {
      "needs_background": "light"
     },
     "output_type": "display_data"
    }
   ],
   "source": [
    "sns.countplot(x=final_data.Season, palette=\"Blues\")"
   ]
  },
  {
   "cell_type": "markdown",
   "metadata": {},
   "source": [
    "We beleive this results cannot be taken as conclusive in order to prove wrong the hypthesis as it is taking into acount countries from all around the globe, and therefore, those countries in the southern hemisphere will have their summer in Dec instead of Jul.  \n",
    "  - Creating a new column of \"northern hemisphere and southern hemisphere\" for each attack would have been necessary. It would have allowed as to adapt de season to each hemisphere takin into account, that when summer in northern hemisphere it is winter in southern hemisphere. "
   ]
  },
  {
   "cell_type": "markdown",
   "metadata": {},
   "source": [
    "Graph 2:"
   ]
  },
  {
   "cell_type": "markdown",
   "metadata": {},
   "source": [
    "In this histplot I will try and see if the error is really because I have mixed northern and southern hemisphere countries and therefore overall season is not reliable or another reason. "
   ]
  },
  {
   "cell_type": "code",
   "execution_count": 16,
   "metadata": {
    "scrolled": true
   },
   "outputs": [
    {
     "data": {
      "text/plain": [
       "<AxesSubplot:xlabel='Season', ylabel='Count'>"
      ]
     },
     "execution_count": 16,
     "metadata": {},
     "output_type": "execute_result"
    },
    {
     "data": {
      "image/png": "[encoded data removed]",
      "text/plain": [
       "<Figure size 432x288 with 1 Axes>"
      ]
     },
     "metadata": {
      "needs_background": "light"
     },
     "output_type": "display_data"
    }
   ],
   "source": [
    "sns.histplot(x=final_data[final_data.Country == \"USA\"].Season)"
   ]
  },
  {
   "cell_type": "markdown",
   "metadata": {},
   "source": [
    "We were surprised by this results, as we were expeting more attacks during winter than in summer. This results could be due to the fact that there is probably more human activities in the ocean/sea during summer and therefore more likely to be attacked by a shark. \n"
   ]
  },
  {
   "cell_type": "markdown",
   "metadata": {},
   "source": [
    "Final Conclusion:"
   ]
  },
  {
   "cell_type": "markdown",
   "metadata": {},
   "source": [
    "I was surprised with the results, as for what i know of sharks being more agresive during mating season does not affect the number of attacks in humans. There are many reasons this could be, my favourite two are; \n",
    " - There are more humans in the ocean/sea during summer, and therefore more likely of a human being attacked. \n",
    " - During mating seasons sharks are not near the shore and therefore less likely of being in contact with humans."
   ]
  }
 ],
 "metadata": {
  "kernelspec": {
   "display_name": "Python 3",
   "language": "python",
   "name": "python3"
  },
  "language_info": {
   "codemirror_mode": {
    "name": "ipython",
    "version": 3
   },
   "file_extension": ".py",
   "mimetype": "text/x-python",
   "name": "python",
   "nbconvert_exporter": "python",
   "pygments_lexer": "ipython3",
   "version": "3.9.0"
  }
 },
 "nbformat": 4,
 "nbformat_minor": 4
}
